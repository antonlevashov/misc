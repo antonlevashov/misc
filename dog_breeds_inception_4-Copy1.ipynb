{
 "cells": [
  {
   "cell_type": "code",
   "execution_count": 1,
   "metadata": {},
   "outputs": [],
   "source": [
    "%reload_ext autoreload\n",
    "%autoreload 2\n",
    "%matplotlib inline"
   ]
  },
  {
   "cell_type": "code",
   "execution_count": 2,
   "metadata": {},
   "outputs": [],
   "source": [
    "from fastai.imports import *\n",
    "from fastai.torch_imports import *\n",
    "from fastai.transforms import *\n",
    "from fastai.conv_learner import *\n",
    "from fastai.model import *\n",
    "from fastai.dataset import *\n",
    "from fastai.sgdr import *\n",
    "from fastai.plots import *\n",
    "\n",
    "import pandas as pd\n",
    "import numpy as np"
   ]
  },
  {
   "cell_type": "code",
   "execution_count": 3,
   "metadata": {},
   "outputs": [
    {
     "name": "stdout",
     "output_type": "stream",
     "text": [
      "299_resnext101_64_no_val_submission.csv  labels.csv.zip\t\ttest.zip\r\n",
      "299_resnext101_64_val_submission.csv\t models\t\t\ttmp\r\n",
      "340_resnext101_64_no_val_submission.csv  sample_submission.csv\ttrain\r\n",
      "labels.csv\t\t\t\t test\t\t\ttrain.zip\r\n"
     ]
    }
   ],
   "source": [
    "PATH = \"data/dogbreed/\"\n",
    "# size of images 224x224\n",
    "sz = 224\n",
    "\n",
    "arch = inception_4\n",
    "\n",
    "# batch size\n",
    "bs = 58\n",
    "\n",
    "!ls {PATH}"
   ]
  },
  {
   "cell_type": "code",
   "execution_count": 4,
   "metadata": {},
   "outputs": [],
   "source": [
    "label_csv = f'{PATH}labels.csv'\n",
    "n = len(list(open(label_csv)))-1\n",
    "\n",
    "val_idxs = [0]"
   ]
  },
  {
   "cell_type": "markdown",
   "metadata": {},
   "source": [
    "### Initial model"
   ]
  },
  {
   "cell_type": "code",
   "execution_count": 5,
   "metadata": {},
   "outputs": [],
   "source": [
    "# Helps us itterate faster by changing images from small to big\n",
    "def get_data(sz,bs):\n",
    "    tfms = tfms_from_model(arch, sz, aug_tfms=transforms_side_on, max_zoom=1.1)\n",
    "    data = ImageClassifierData.from_csv(PATH, \n",
    "                                    'train', \n",
    "                                    f'{PATH}labels.csv', \n",
    "                                    test_name='test',\n",
    "                                    val_idxs=val_idxs, # Create train/validation set\n",
    "                                    suffix='.jpg',\n",
    "                                    tfms=tfms,\n",
    "                                    bs=bs)\n",
    "    \n",
    "    return data if sz>300 else data.resize(340, 'tmp')"
   ]
  },
  {
   "cell_type": "code",
   "execution_count": 6,
   "metadata": {},
   "outputs": [
    {
     "data": {
      "application/vnd.jupyter.widget-view+json": {
       "model_id": "b7b0fef536874d09b3d4f0b1339335e6",
       "version_major": 2,
       "version_minor": 0
      },
      "text/html": [
       "<p>Failed to display Jupyter Widget of type <code>HBox</code>.</p>\n",
       "<p>\n",
       "  If you're reading this message in the Jupyter Notebook or JupyterLab Notebook, it may mean\n",
       "  that the widgets JavaScript is still loading. If this message persists, it\n",
       "  likely means that the widgets JavaScript library is either not installed or\n",
       "  not enabled. See the <a href=\"https://ipywidgets.readthedocs.io/en/stable/user_install.html\">Jupyter\n",
       "  Widgets Documentation</a> for setup instructions.\n",
       "</p>\n",
       "<p>\n",
       "  If you're reading this message in another frontend (for example, a static\n",
       "  rendering on GitHub or <a href=\"https://nbviewer.jupyter.org/\">NBViewer</a>),\n",
       "  it may mean that your frontend doesn't currently support widgets.\n",
       "</p>\n"
      ],
      "text/plain": [
       "HBox(children=(IntProgress(value=0, max=6), HTML(value='')))"
      ]
     },
     "metadata": {},
     "output_type": "display_data"
    },
    {
     "name": "stdout",
     "output_type": "stream",
     "text": [
      "\n",
      "CPU times: user 272 ms, sys: 12 ms, total: 284 ms\n",
      "Wall time: 282 ms\n",
      "100%|██████████| 177/177 [00:56<00:00,  3.14it/s]\n",
      "100%|██████████| 1/1 [00:00<00:00, 32.35it/s]\n"
     ]
    }
   ],
   "source": [
    "# Load our data sets\n",
    "%time data = get_data(sz, bs)\n",
    "\n",
    "# Create our simple model, no data augmentation.\n",
    "# Precomputing weigths\n",
    "learn = ConvLearner.pretrained(arch, data, precompute=True)"
   ]
  },
  {
   "cell_type": "code",
   "execution_count": 7,
   "metadata": {},
   "outputs": [
    {
     "data": {
      "application/vnd.jupyter.widget-view+json": {
       "model_id": "6993c90061cd4d62b3bbc2b47556e41f",
       "version_major": 2,
       "version_minor": 0
      },
      "text/html": [
       "<p>Failed to display Jupyter Widget of type <code>HBox</code>.</p>\n",
       "<p>\n",
       "  If you're reading this message in the Jupyter Notebook or JupyterLab Notebook, it may mean\n",
       "  that the widgets JavaScript is still loading. If this message persists, it\n",
       "  likely means that the widgets JavaScript library is either not installed or\n",
       "  not enabled. See the <a href=\"https://ipywidgets.readthedocs.io/en/stable/user_install.html\">Jupyter\n",
       "  Widgets Documentation</a> for setup instructions.\n",
       "</p>\n",
       "<p>\n",
       "  If you're reading this message in another frontend (for example, a static\n",
       "  rendering on GitHub or <a href=\"https://nbviewer.jupyter.org/\">NBViewer</a>),\n",
       "  it may mean that your frontend doesn't currently support widgets.\n",
       "</p>\n"
      ],
      "text/plain": [
       "HBox(children=(IntProgress(value=0, description='Epoch', max=5), HTML(value='')))"
      ]
     },
     "metadata": {},
     "output_type": "display_data"
    },
    {
     "name": "stdout",
     "output_type": "stream",
     "text": [
      "epoch      trn_loss   val_loss   accuracy                    \n",
      "    0      0.75016    0.050805   1.0       \n",
      "    1      0.52653    0.013001   1.0                         \n",
      "    2      0.46036    0.020913   1.0                         \n",
      "    3      0.386188   0.010467   1.0                         \n",
      "    4      0.342414   0.001537   1.0                         \n",
      "\n",
      "CPU times: user 9.21 s, sys: 8.31 s, total: 17.5 s\n",
      "Wall time: 12.5 s\n"
     ]
    },
    {
     "data": {
      "image/png": "[encoded data removed]",
      "text/plain": [
       "<matplotlib.figure.Figure at 0x7f64cc1ec438>"
      ]
     },
     "metadata": {},
     "output_type": "display_data"
    }
   ],
   "source": [
    "# Training is very fast with precomputed weights\n",
    "%time learn.fit(1e-1,5)\n",
    "\n",
    "# Plot loss training\n",
    "learn.sched.plot_loss()"
   ]
  },
  {
   "cell_type": "code",
   "execution_count": 8,
   "metadata": {},
   "outputs": [
    {
     "data": {
      "application/vnd.jupyter.widget-view+json": {
       "model_id": "67b45a3b5c5f4eeeb16d4871acd56bec",
       "version_major": 2,
       "version_minor": 0
      },
      "text/html": [
       "<p>Failed to display Jupyter Widget of type <code>HBox</code>.</p>\n",
       "<p>\n",
       "  If you're reading this message in the Jupyter Notebook or JupyterLab Notebook, it may mean\n",
       "  that the widgets JavaScript is still loading. If this message persists, it\n",
       "  likely means that the widgets JavaScript library is either not installed or\n",
       "  not enabled. See the <a href=\"https://ipywidgets.readthedocs.io/en/stable/user_install.html\">Jupyter\n",
       "  Widgets Documentation</a> for setup instructions.\n",
       "</p>\n",
       "<p>\n",
       "  If you're reading this message in another frontend (for example, a static\n",
       "  rendering on GitHub or <a href=\"https://nbviewer.jupyter.org/\">NBViewer</a>),\n",
       "  it may mean that your frontend doesn't currently support widgets.\n",
       "</p>\n"
      ],
      "text/plain": [
       "HBox(children=(IntProgress(value=0, description='Epoch', max=5), HTML(value='')))"
      ]
     },
     "metadata": {},
     "output_type": "display_data"
    },
    {
     "name": "stdout",
     "output_type": "stream",
     "text": [
      "epoch      trn_loss   val_loss   accuracy                    \n",
      "    0      0.403046   0.001422   1.0       \n",
      "    1      0.399391   0.001262   1.0                         \n",
      "    2      0.428365   0.001371   1.0                         \n",
      "    3      0.36136    0.001431   1.0                         \n",
      "    4      0.386112   0.00145    1.0                         \n",
      "\n",
      "CPU times: user 8min 54s, sys: 1min 29s, total: 10min 24s\n",
      "Wall time: 4min 45s\n"
     ]
    },
    {
     "data": {
      "image/png": "[encoded data removed]",
      "text/plain": [
       "<matplotlib.figure.Figure at 0x7f64cb7a4828>"
      ]
     },
     "metadata": {},
     "output_type": "display_data"
    }
   ],
   "source": [
    "# Usign cycle_len=1 means stochastic gradient descent with restarts used only once during the training.\n",
    "# Disable precompute and train all conv layers\n",
    "learn.precompute = False\n",
    "\n",
    "%time learn.fit(1e-3, 5, cycle_len=1)\n",
    "\n",
    "# Plot loss \n",
    "learn.sched.plot_loss()\n",
    "\n",
    "# Save our model in models folder\n",
    "learn.save('224_inception_4_V2')"
   ]
  },
  {
   "cell_type": "markdown",
   "metadata": {},
   "source": [
    "### Increase the size of images to improve accuracy 299 x 299"
   ]
  },
  {
   "cell_type": "raw",
   "metadata": {},
   "source": [
    "# Load our trained model \n",
    "learn.load('224_inception_4_V2')"
   ]
  },
  {
   "cell_type": "code",
   "execution_count": 9,
   "metadata": {},
   "outputs": [
    {
     "data": {
      "application/vnd.jupyter.widget-view+json": {
       "model_id": "8eabeb3b152246199c6aabc1a089d0bc",
       "version_major": 2,
       "version_minor": 0
      },
      "text/html": [
       "<p>Failed to display Jupyter Widget of type <code>HBox</code>.</p>\n",
       "<p>\n",
       "  If you're reading this message in the Jupyter Notebook or JupyterLab Notebook, it may mean\n",
       "  that the widgets JavaScript is still loading. If this message persists, it\n",
       "  likely means that the widgets JavaScript library is either not installed or\n",
       "  not enabled. See the <a href=\"https://ipywidgets.readthedocs.io/en/stable/user_install.html\">Jupyter\n",
       "  Widgets Documentation</a> for setup instructions.\n",
       "</p>\n",
       "<p>\n",
       "  If you're reading this message in another frontend (for example, a static\n",
       "  rendering on GitHub or <a href=\"https://nbviewer.jupyter.org/\">NBViewer</a>),\n",
       "  it may mean that your frontend doesn't currently support widgets.\n",
       "</p>\n"
      ],
      "text/plain": [
       "HBox(children=(IntProgress(value=0, max=6), HTML(value='')))"
      ]
     },
     "metadata": {},
     "output_type": "display_data"
    },
    {
     "name": "stdout",
     "output_type": "stream",
     "text": [
      "\n"
     ]
    },
    {
     "data": {
      "application/vnd.jupyter.widget-view+json": {
       "model_id": "7b889e1b92664c98a3d443ec132738ee",
       "version_major": 2,
       "version_minor": 0
      },
      "text/html": [
       "<p>Failed to display Jupyter Widget of type <code>HBox</code>.</p>\n",
       "<p>\n",
       "  If you're reading this message in the Jupyter Notebook or JupyterLab Notebook, it may mean\n",
       "  that the widgets JavaScript is still loading. If this message persists, it\n",
       "  likely means that the widgets JavaScript library is either not installed or\n",
       "  not enabled. See the <a href=\"https://ipywidgets.readthedocs.io/en/stable/user_install.html\">Jupyter\n",
       "  Widgets Documentation</a> for setup instructions.\n",
       "</p>\n",
       "<p>\n",
       "  If you're reading this message in another frontend (for example, a static\n",
       "  rendering on GitHub or <a href=\"https://nbviewer.jupyter.org/\">NBViewer</a>),\n",
       "  it may mean that your frontend doesn't currently support widgets.\n",
       "</p>\n"
      ],
      "text/plain": [
       "HBox(children=(IntProgress(value=0, description='Epoch', max=7), HTML(value='')))"
      ]
     },
     "metadata": {},
     "output_type": "display_data"
    },
    {
     "name": "stdout",
     "output_type": "stream",
     "text": [
      "epoch      trn_loss   val_loss   accuracy                    \n",
      "    0      0.245677   0.000189   1.0       \n",
      "    1      0.227168   0.000186   1.0                         \n",
      "    2      0.223996   0.000212   1.0                         \n",
      "    3      0.251984   0.00016    1.0                         \n",
      "    4      0.219909   0.000185   1.0                         \n",
      "    5      0.223693   0.000127   1.0                         \n",
      "    6      0.197046   0.000144   1.0                         \n",
      "\n",
      "CPU times: user 20min 36s, sys: 3min 51s, total: 24min 28s\n",
      "Wall time: 12min 34s\n"
     ]
    },
    {
     "data": {
      "image/png": "[encoded data removed]",
      "text/plain": [
       "<matplotlib.figure.Figure at 0x7f64cb7c3dd8>"
      ]
     },
     "metadata": {},
     "output_type": "display_data"
    }
   ],
   "source": [
    "# Set image size to 299 and augment images and continue training \n",
    "learn.set_data(get_data(299, bs))\n",
    "\n",
    "%time learn.fit(1e-2, 3, cycle_len=1, cycle_mult=2)\n",
    "\n",
    "# Plot loss\n",
    "learn.sched.plot_loss()\n",
    "\n",
    "learn.save('299_inception_4_V2')"
   ]
  },
  {
   "cell_type": "markdown",
   "metadata": {},
   "source": [
    "##### Retrain our model on all training data (no validation), images 360x360"
   ]
  },
  {
   "cell_type": "code",
   "execution_count": 10,
   "metadata": {},
   "outputs": [],
   "source": [
    "bs = 40"
   ]
  },
  {
   "cell_type": "markdown",
   "metadata": {},
   "source": [
    "### Retrain our model on all training data (no validation), images 400x400,  UNFREEZING all layers."
   ]
  },
  {
   "cell_type": "raw",
   "metadata": {},
   "source": [
    "# Set precompute=Flse activations were previously generated based on our validation set and training set split\n",
    "learn = ConvLearner.pretrained(arch, data, precompute=False)\n",
    "learn.load('360_inception_4_V2')"
   ]
  },
  {
   "cell_type": "code",
   "execution_count": 12,
   "metadata": {},
   "outputs": [
    {
     "data": {
      "application/vnd.jupyter.widget-view+json": {
       "model_id": "d2b579139db642758118c50df9042621",
       "version_major": 2,
       "version_minor": 0
      },
      "text/html": [
       "<p>Failed to display Jupyter Widget of type <code>HBox</code>.</p>\n",
       "<p>\n",
       "  If you're reading this message in the Jupyter Notebook or JupyterLab Notebook, it may mean\n",
       "  that the widgets JavaScript is still loading. If this message persists, it\n",
       "  likely means that the widgets JavaScript library is either not installed or\n",
       "  not enabled. See the <a href=\"https://ipywidgets.readthedocs.io/en/stable/user_install.html\">Jupyter\n",
       "  Widgets Documentation</a> for setup instructions.\n",
       "</p>\n",
       "<p>\n",
       "  If you're reading this message in another frontend (for example, a static\n",
       "  rendering on GitHub or <a href=\"https://nbviewer.jupyter.org/\">NBViewer</a>),\n",
       "  it may mean that your frontend doesn't currently support widgets.\n",
       "</p>\n"
      ],
      "text/plain": [
       "HBox(children=(IntProgress(value=0, description='Epoch', max=7), HTML(value='')))"
      ]
     },
     "metadata": {},
     "output_type": "display_data"
    },
    {
     "name": "stdout",
     "output_type": "stream",
     "text": [
      "epoch      trn_loss   val_loss   accuracy                    \n",
      "    0      0.206475   9.1e-05    1.0       \n",
      "    1      0.211397   0.00012    1.0                         \n",
      "    2      0.209203   0.000121   1.0                         \n",
      "    3      0.227957   0.000148   1.0                         \n",
      "    4      0.217235   9.2e-05    1.0                         \n",
      "    5      0.225986   0.000115   1.0                         \n",
      "    6      0.199018   9e-05      1.0                         \n",
      "\n",
      "CPU times: user 43min 54s, sys: 4min 32s, total: 48min 27s\n",
      "Wall time: 24min 1s\n"
     ]
    },
    {
     "data": {
      "image/png": "[encoded data removed]",
      "text/plain": [
       "<matplotlib.figure.Figure at 0x7f64cc431fd0>"
      ]
     },
     "metadata": {},
     "output_type": "display_data"
    }
   ],
   "source": [
    "# Get data without validation set and images 400x400 and bs 58\n",
    "learn.set_data(get_data(400, bs))\n",
    "\n",
    "%time learn.fit(1e-3, 3, cycle_len=1, cycle_mult=2)\n",
    "learn.sched.plot_loss()\n",
    "\n",
    "learn.save('400_inception_4_V2')"
   ]
  },
  {
   "cell_type": "markdown",
   "metadata": {},
   "source": [
    "### Make our prediction file using all training images 400 x 400 "
   ]
  },
  {
   "cell_type": "code",
   "execution_count": 13,
   "metadata": {},
   "outputs": [
    {
     "name": "stdout",
     "output_type": "stream",
     "text": [
      "CPU times: user 4min 42s, sys: 32 s, total: 5min 14s\n",
      "Wall time: 3min 7s\n"
     ]
    },
    {
     "data": {
      "text/plain": [
       "(10357, 120)"
      ]
     },
     "execution_count": 13,
     "metadata": {},
     "output_type": "execute_result"
    }
   ],
   "source": [
    "# Set precompute=Flse activations were previously generated based on our validation set and training set split\n",
    "# learn = ConvLearner.pretrained(arch, data, precompute=False)\n",
    "learn.load('400_inception_4_V2')\n",
    "\n",
    "%time log_preds_test = learn.predict(is_test=True)\n",
    "log_preds_test.shape"
   ]
  },
  {
   "cell_type": "code",
   "execution_count": 14,
   "metadata": {},
   "outputs": [
    {
     "data": {
      "text/html": [
       "<div>\n",
       "<style scoped>\n",
       "    .dataframe tbody tr th:only-of-type {\n",
       "        vertical-align: middle;\n",
       "    }\n",
       "\n",
       "    .dataframe tbody tr th {\n",
       "        vertical-align: top;\n",
       "    }\n",
       "\n",
       "    .dataframe thead th {\n",
       "        text-align: right;\n",
       "    }\n",
       "</style>\n",
       "<table border=\"1\" class=\"dataframe\">\n",
       "  <thead>\n",
       "    <tr style=\"text-align: right;\">\n",
       "      <th></th>\n",
       "      <th>id</th>\n",
       "      <th>affenpinscher</th>\n",
       "      <th>afghan_hound</th>\n",
       "      <th>african_hunting_dog</th>\n",
       "      <th>airedale</th>\n",
       "      <th>american_staffordshire_terrier</th>\n",
       "      <th>appenzeller</th>\n",
       "      <th>australian_terrier</th>\n",
       "      <th>basenji</th>\n",
       "      <th>basset</th>\n",
       "      <th>...</th>\n",
       "      <th>toy_poodle</th>\n",
       "      <th>toy_terrier</th>\n",
       "      <th>vizsla</th>\n",
       "      <th>walker_hound</th>\n",
       "      <th>weimaraner</th>\n",
       "      <th>welsh_springer_spaniel</th>\n",
       "      <th>west_highland_white_terrier</th>\n",
       "      <th>whippet</th>\n",
       "      <th>wire-haired_fox_terrier</th>\n",
       "      <th>yorkshire_terrier</th>\n",
       "    </tr>\n",
       "  </thead>\n",
       "  <tbody>\n",
       "    <tr>\n",
       "      <th>0</th>\n",
       "      <td>de084b830010b6107215fef5d4a75b94</td>\n",
       "      <td>1.865958e-05</td>\n",
       "      <td>7.712234e-05</td>\n",
       "      <td>6.305850e-05</td>\n",
       "      <td>1.141065e-05</td>\n",
       "      <td>3.996236e-06</td>\n",
       "      <td>2.779701e-06</td>\n",
       "      <td>1.994238e-05</td>\n",
       "      <td>3.325056e-06</td>\n",
       "      <td>8.025273e-06</td>\n",
       "      <td>...</td>\n",
       "      <td>1.472761e-06</td>\n",
       "      <td>9.287354e-06</td>\n",
       "      <td>6.302552e-06</td>\n",
       "      <td>3.044984e-06</td>\n",
       "      <td>5.541760e-05</td>\n",
       "      <td>7.419814e-06</td>\n",
       "      <td>3.166735e-06</td>\n",
       "      <td>1.387859e-05</td>\n",
       "      <td>0.000031</td>\n",
       "      <td>1.218593e-05</td>\n",
       "    </tr>\n",
       "    <tr>\n",
       "      <th>1</th>\n",
       "      <td>6b423ca7020e70eb05732843c5d2bad1</td>\n",
       "      <td>4.144530e-05</td>\n",
       "      <td>3.050031e-05</td>\n",
       "      <td>4.365623e-05</td>\n",
       "      <td>1.004669e-05</td>\n",
       "      <td>5.360874e-07</td>\n",
       "      <td>3.450975e-06</td>\n",
       "      <td>3.997211e-06</td>\n",
       "      <td>4.324894e-06</td>\n",
       "      <td>3.249543e-06</td>\n",
       "      <td>...</td>\n",
       "      <td>8.520662e-06</td>\n",
       "      <td>8.066589e-07</td>\n",
       "      <td>1.980729e-06</td>\n",
       "      <td>6.224062e-07</td>\n",
       "      <td>1.474454e-05</td>\n",
       "      <td>3.967788e-06</td>\n",
       "      <td>4.247926e-06</td>\n",
       "      <td>3.474113e-06</td>\n",
       "      <td>0.000023</td>\n",
       "      <td>2.855041e-06</td>\n",
       "    </tr>\n",
       "    <tr>\n",
       "      <th>2</th>\n",
       "      <td>74aa7e201e0e93e13e87b986a7d31839</td>\n",
       "      <td>4.379008e-07</td>\n",
       "      <td>3.927212e-07</td>\n",
       "      <td>4.267585e-07</td>\n",
       "      <td>1.805038e-04</td>\n",
       "      <td>7.737067e-07</td>\n",
       "      <td>2.397834e-06</td>\n",
       "      <td>9.453264e-07</td>\n",
       "      <td>1.556314e-07</td>\n",
       "      <td>1.076620e-07</td>\n",
       "      <td>...</td>\n",
       "      <td>3.079438e-06</td>\n",
       "      <td>2.799592e-07</td>\n",
       "      <td>3.220442e-07</td>\n",
       "      <td>3.931889e-07</td>\n",
       "      <td>2.517844e-07</td>\n",
       "      <td>1.188630e-06</td>\n",
       "      <td>1.574450e-07</td>\n",
       "      <td>1.290513e-06</td>\n",
       "      <td>0.017164</td>\n",
       "      <td>7.542918e-07</td>\n",
       "    </tr>\n",
       "    <tr>\n",
       "      <th>3</th>\n",
       "      <td>a079f72193264bc5685e5d28d7372680</td>\n",
       "      <td>2.534182e-05</td>\n",
       "      <td>2.160794e-05</td>\n",
       "      <td>2.485574e-05</td>\n",
       "      <td>6.678330e-05</td>\n",
       "      <td>1.895038e-06</td>\n",
       "      <td>1.352355e-05</td>\n",
       "      <td>2.610672e-06</td>\n",
       "      <td>6.411921e-06</td>\n",
       "      <td>3.666918e-06</td>\n",
       "      <td>...</td>\n",
       "      <td>3.843317e-05</td>\n",
       "      <td>4.009238e-06</td>\n",
       "      <td>1.650225e-06</td>\n",
       "      <td>8.776046e-07</td>\n",
       "      <td>1.283125e-05</td>\n",
       "      <td>2.131858e-06</td>\n",
       "      <td>1.415162e-04</td>\n",
       "      <td>2.280009e-06</td>\n",
       "      <td>0.000026</td>\n",
       "      <td>2.239073e-05</td>\n",
       "    </tr>\n",
       "    <tr>\n",
       "      <th>4</th>\n",
       "      <td>583f7580fa5fec1266331fcf83b76fd6</td>\n",
       "      <td>5.702092e-08</td>\n",
       "      <td>3.564339e-08</td>\n",
       "      <td>3.447868e-09</td>\n",
       "      <td>6.259319e-07</td>\n",
       "      <td>1.415432e-08</td>\n",
       "      <td>6.028355e-08</td>\n",
       "      <td>1.168206e-09</td>\n",
       "      <td>2.025062e-08</td>\n",
       "      <td>6.601012e-10</td>\n",
       "      <td>...</td>\n",
       "      <td>2.111138e-07</td>\n",
       "      <td>9.395759e-09</td>\n",
       "      <td>2.858541e-09</td>\n",
       "      <td>2.502605e-10</td>\n",
       "      <td>3.661505e-08</td>\n",
       "      <td>3.139828e-09</td>\n",
       "      <td>4.728415e-09</td>\n",
       "      <td>6.783853e-07</td>\n",
       "      <td>0.000003</td>\n",
       "      <td>1.157224e-08</td>\n",
       "    </tr>\n",
       "  </tbody>\n",
       "</table>\n",
       "<p>5 rows × 121 columns</p>\n",
       "</div>"
      ],
      "text/plain": [
       "                                 id  affenpinscher  afghan_hound  \\\n",
       "0  de084b830010b6107215fef5d4a75b94   1.865958e-05  7.712234e-05   \n",
       "1  6b423ca7020e70eb05732843c5d2bad1   4.144530e-05  3.050031e-05   \n",
       "2  74aa7e201e0e93e13e87b986a7d31839   4.379008e-07  3.927212e-07   \n",
       "3  a079f72193264bc5685e5d28d7372680   2.534182e-05  2.160794e-05   \n",
       "4  583f7580fa5fec1266331fcf83b76fd6   5.702092e-08  3.564339e-08   \n",
       "\n",
       "   african_hunting_dog      airedale  american_staffordshire_terrier  \\\n",
       "0         6.305850e-05  1.141065e-05                    3.996236e-06   \n",
       "1         4.365623e-05  1.004669e-05                    5.360874e-07   \n",
       "2         4.267585e-07  1.805038e-04                    7.737067e-07   \n",
       "3         2.485574e-05  6.678330e-05                    1.895038e-06   \n",
       "4         3.447868e-09  6.259319e-07                    1.415432e-08   \n",
       "\n",
       "    appenzeller  australian_terrier       basenji        basset  \\\n",
       "0  2.779701e-06        1.994238e-05  3.325056e-06  8.025273e-06   \n",
       "1  3.450975e-06        3.997211e-06  4.324894e-06  3.249543e-06   \n",
       "2  2.397834e-06        9.453264e-07  1.556314e-07  1.076620e-07   \n",
       "3  1.352355e-05        2.610672e-06  6.411921e-06  3.666918e-06   \n",
       "4  6.028355e-08        1.168206e-09  2.025062e-08  6.601012e-10   \n",
       "\n",
       "         ...            toy_poodle   toy_terrier        vizsla  walker_hound  \\\n",
       "0        ...          1.472761e-06  9.287354e-06  6.302552e-06  3.044984e-06   \n",
       "1        ...          8.520662e-06  8.066589e-07  1.980729e-06  6.224062e-07   \n",
       "2        ...          3.079438e-06  2.799592e-07  3.220442e-07  3.931889e-07   \n",
       "3        ...          3.843317e-05  4.009238e-06  1.650225e-06  8.776046e-07   \n",
       "4        ...          2.111138e-07  9.395759e-09  2.858541e-09  2.502605e-10   \n",
       "\n",
       "     weimaraner  welsh_springer_spaniel  west_highland_white_terrier  \\\n",
       "0  5.541760e-05            7.419814e-06                 3.166735e-06   \n",
       "1  1.474454e-05            3.967788e-06                 4.247926e-06   \n",
       "2  2.517844e-07            1.188630e-06                 1.574450e-07   \n",
       "3  1.283125e-05            2.131858e-06                 1.415162e-04   \n",
       "4  3.661505e-08            3.139828e-09                 4.728415e-09   \n",
       "\n",
       "        whippet  wire-haired_fox_terrier  yorkshire_terrier  \n",
       "0  1.387859e-05                 0.000031       1.218593e-05  \n",
       "1  3.474113e-06                 0.000023       2.855041e-06  \n",
       "2  1.290513e-06                 0.017164       7.542918e-07  \n",
       "3  2.280009e-06                 0.000026       2.239073e-05  \n",
       "4  6.783853e-07                 0.000003       1.157224e-08  \n",
       "\n",
       "[5 rows x 121 columns]"
      ]
     },
     "execution_count": 14,
     "metadata": {},
     "output_type": "execute_result"
    }
   ],
   "source": [
    "# Convert to probs\n",
    "preds = np.exp(log_preds_test)\n",
    "\n",
    "df = pd.DataFrame(preds)\n",
    "df.columns = data.classes\n",
    "\n",
    "df.insert(0,'id', [o[5:-4] for o in data.test_ds.fnames])\n",
    "df.head()"
   ]
  },
  {
   "cell_type": "code",
   "execution_count": 15,
   "metadata": {},
   "outputs": [],
   "source": [
    "# compression=\"gzip\"\n",
    "df.to_csv(f'{PATH}400_inception_4_V2_submission.csv', index=False)"
   ]
  },
  {
   "cell_type": "code",
   "execution_count": 16,
   "metadata": {},
   "outputs": [
    {
     "ename": "NameError",
     "evalue": "name 'FilleLink' is not defined",
     "output_type": "error",
     "traceback": [
      "\u001b[0;31m---------------------------------------------------------------\u001b[0m",
      "\u001b[0;31mNameError\u001b[0m                     Traceback (most recent call last)",
      "\u001b[0;32m<ipython-input-16-f4f81fe7f1d7>\u001b[0m in \u001b[0;36m<module>\u001b[0;34m()\u001b[0m\n\u001b[0;32m----> 1\u001b[0;31m \u001b[0mFilleLink\u001b[0m\u001b[0;34m(\u001b[0m\u001b[0;34mf'{PATH}400_inception_4_V2_submission.csv'\u001b[0m\u001b[0;34m)\u001b[0m\u001b[0;34m\u001b[0m\u001b[0m\n\u001b[0m",
      "\u001b[0;31mNameError\u001b[0m: name 'FilleLink' is not defined"
     ]
    }
   ],
   "source": [
    "FilleLink(f'{PATH}400_inception_4_V2_submission.csv')"
   ]
  },
  {
   "cell_type": "code",
   "execution_count": 17,
   "metadata": {},
   "outputs": [
    {
     "name": "stdout",
     "output_type": "stream",
     "text": [
      "CPU times: user 4min 41s, sys: 20.1 s, total: 5min 1s\n",
      "Wall time: 2min 57s\n"
     ]
    }
   ],
   "source": [
    "learn.load('299_inception_4_V2')\n",
    "%time log_preds_test = learn.predict(is_test=True)\n",
    "# Convert to probs\n",
    "preds = np.exp(log_preds_test)\n",
    "df = pd.DataFrame(preds)\n",
    "df.columns = data.classes\n",
    "df.insert(0,'id', [o[5:-4] for o in data.test_ds.fnames])\n",
    "df.head()\n",
    "# compression=\"gzip\"\n",
    "df.to_csv(f'{PATH}299_inception_4_V2_submission.csv', index=False)\n",
    "# FilleLink(f'{PATH}299_inception_4_V2_submission.csv')"
   ]
  },
  {
   "cell_type": "code",
   "execution_count": null,
   "metadata": {},
   "outputs": [],
   "source": []
  }
 ],
 "metadata": {
  "kernelspec": {
   "display_name": "Python 3",
   "language": "python",
   "name": "python3"
  },
  "language_info": {
   "codemirror_mode": {
    "name": "ipython",
    "version": 3
   },
   "file_extension": ".py",
   "mimetype": "text/x-python",
   "name": "python",
   "nbconvert_exporter": "python",
   "pygments_lexer": "ipython3",
   "version": "3.6.4"
  }
 },
 "nbformat": 4,
 "nbformat_minor": 2
}
