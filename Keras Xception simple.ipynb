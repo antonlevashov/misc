{
 "cells": [
  {
   "cell_type": "code",
   "execution_count": 34,
   "metadata": {},
   "outputs": [],
   "source": [
    "import keras.backend as K\n",
    "\n",
    "\n",
    "from keras.applications.xception import Xception\n",
    "from keras.callbacks import EarlyStopping, ReduceLROnPlateau, ModelCheckpoint, TensorBoard\n",
    "from keras.layers import Concatenate, Lambda, Flatten, Dense, AveragePooling2D, Dropout, GlobalAveragePooling2D\n",
    "from keras.metrics import top_k_categorical_accuracy\n",
    "from keras.models import load_model, Model, save_model\n",
    "from keras.optimizers import Adam, SGD\n",
    "from keras.preprocessing.image import ImageDataGenerator\n",
    "\n",
    "import math\n",
    "import numpy as np\n",
    "import os\n",
    "import pickle\n",
    "import sys\n",
    "import tensorflow as tf\n",
    "import pandas as pd"
   ]
  },
  {
   "cell_type": "code",
   "execution_count": 39,
   "metadata": {},
   "outputs": [
    {
     "name": "stdout",
     "output_type": "stream",
     "text": [
      "1000012768\n"
     ]
    }
   ],
   "source": [
    "num_gpus_to_use = 1\n",
    "\n",
    "model_name = \"xception_v2\"\n",
    "models_folder  = \"models\"\n",
    "\n",
    "img_width = 180\n",
    "img_height = 180\n",
    "\n",
    "batch_size = 8  # 258\n",
    "num_epochs = [1, 1]\n",
    "learning_rate = [0.1, 0.1, 0.1]\n",
    "sub_model_names = [\"trainhead_test\", \"blocks_11_test\", \"whole_model_test\"]\n",
    "train_data_dir = 'output/train'\n",
    "val_data_dir = 'output/validation'\n",
    "\n",
    "classnames = pickle.load(open(\"class_order.pkl\", \"rb\"))\n",
    "# classnames = pd.read_csv(\"input/category_names.csv\", \"rb\")"
   ]
  },
  {
   "cell_type": "code",
   "execution_count": 40,
   "metadata": {},
   "outputs": [
    {
     "data": {
      "text/plain": [
       "list"
      ]
     },
     "execution_count": 40,
     "metadata": {},
     "output_type": "execute_result"
    }
   ],
   "source": []
  },
  {
   "cell_type": "code",
   "execution_count": 37,
   "metadata": {},
   "outputs": [],
   "source": [
    "model0 = Xception(include_top=False, weights='imagenet',\n",
    "                    input_tensor=None, input_shape=(img_width, img_height, 3))\n",
    "\n",
    "for lay in model0.layers:\n",
    "    lay.trainable = False\n",
    "\n",
    "x = model0.output\n",
    "x = GlobalAveragePooling2D(name='avg_pool')(x)\n",
    "\n",
    "x = Dropout(0.2)(x)\n",
    "x = Dense(len(classnames), activation='softmax', name='predictions')(x)\n",
    "model = Model(model0.input, x)"
   ]
  },
  {
   "cell_type": "markdown",
   "metadata": {},
   "source": [
    "## Generator"
   ]
  },
  {
   "cell_type": "code",
   "execution_count": 16,
   "metadata": {},
   "outputs": [
    {
     "name": "stdout",
     "output_type": "stream",
     "text": [
      "Found 9916714 images belonging to 5270 classes.\n",
      "Found 2454579 images belonging to 5270 classes.\n"
     ]
    }
   ],
   "source": [
    "# Data generator\n",
    "train_datagen = ImageDataGenerator(rescale=1./255)\n",
    "\n",
    "train_generator = train_datagen.flow_from_directory(\n",
    "        train_data_dir,\n",
    "        target_size = (img_width, img_height),\n",
    "        batch_size = batch_size,\n",
    "        shuffle = True,\n",
    "        classes = classnames,\n",
    "        class_mode = 'categorical')\n",
    "\n",
    "val_datagen = ImageDataGenerator(rescale=1./255)\n",
    "\n",
    "validation_generator = val_datagen.flow_from_directory(\n",
    "        val_data_dir,\n",
    "        target_size=(img_width, img_height),\n",
    "        batch_size=batch_size,\n",
    "        shuffle = True,\n",
    "        classes = classnames,\n",
    "        class_mode = 'categorical')\n",
    "\n",
    "os.makedirs(\"./models\", exist_ok=True)"
   ]
  },
  {
   "cell_type": "markdown",
   "metadata": {},
   "source": [
    "## TRAIN"
   ]
  },
  {
   "cell_type": "code",
   "execution_count": 18,
   "metadata": {},
   "outputs": [],
   "source": [
    "sub_model_save_paths = []\n",
    "callbacks = []\n",
    "had_been_run = []\n",
    "\n",
    "for idx,subm in enumerate(sub_model_names):\n",
    "    sub_model_save_paths.append(models_folder + \"mod_and_outp_\" + model_name + \"_\" + subm + \".hdf5\")\n",
    "    callbacks.append([ModelCheckpoint(monitor='val_loss',\n",
    "                             filepath= models_folder + model_name + \"_\" + subm + '_{epoch:03d}-{val_loss:.7f}.hdf5',\n",
    "                             save_best_only=False,\n",
    "                             save_weights_only=False,\n",
    "                             mode='max'),\n",
    "                             TensorBoard(log_dir='logs/{}'.format(model_name))])\n",
    "\n",
    "    if os.path.isfile(sub_model_save_paths[idx]):\n",
    "        had_been_run.append(True)\n",
    "    else:\n",
    "        had_been_run.append(False)"
   ]
  },
  {
   "cell_type": "markdown",
   "metadata": {},
   "source": [
    "## train HEAD"
   ]
  },
  {
   "cell_type": "code",
   "execution_count": 23,
   "metadata": {},
   "outputs": [],
   "source": [
    "setattr(tf.contrib.rnn.GRUCell, '__deepcopy__', lambda self, _: self)\n",
    "setattr(tf.contrib.rnn.BasicLSTMCell, '__deepcopy__', lambda self, _: self)\n",
    "setattr(tf.contrib.rnn.MultiRNNCell, '__deepcopy__', lambda self, _: self)"
   ]
  },
  {
   "cell_type": "code",
   "execution_count": 24,
   "metadata": {},
   "outputs": [
    {
     "name": "stdout",
     "output_type": "stream",
     "text": [
      "\n",
      " Starting optimization of model: trainhead_test\n"
     ]
    },
    {
     "ename": "StopIteration",
     "evalue": "can't pickle _thread.lock objects",
     "output_type": "error",
     "traceback": [
      "\u001b[0;31m---------------------------------------------------------------------------\u001b[0m",
      "\u001b[0;31mTypeError\u001b[0m                                 Traceback (most recent call last)",
      "\u001b[0;32m~/anaconda3/lib/python3.6/site-packages/keras/utils/data_utils.py\u001b[0m in \u001b[0;36mget\u001b[0;34m(self)\u001b[0m\n\u001b[1;32m    512\u001b[0m             \u001b[0;32mwhile\u001b[0m \u001b[0mself\u001b[0m\u001b[0;34m.\u001b[0m\u001b[0mis_running\u001b[0m\u001b[0;34m(\u001b[0m\u001b[0;34m)\u001b[0m\u001b[0;34m:\u001b[0m\u001b[0;34m\u001b[0m\u001b[0m\n\u001b[0;32m--> 513\u001b[0;31m                 \u001b[0minputs\u001b[0m \u001b[0;34m=\u001b[0m \u001b[0mself\u001b[0m\u001b[0;34m.\u001b[0m\u001b[0mqueue\u001b[0m\u001b[0;34m.\u001b[0m\u001b[0mget\u001b[0m\u001b[0;34m(\u001b[0m\u001b[0mblock\u001b[0m\u001b[0;34m=\u001b[0m\u001b[0;32mTrue\u001b[0m\u001b[0;34m)\u001b[0m\u001b[0;34m.\u001b[0m\u001b[0mget\u001b[0m\u001b[0;34m(\u001b[0m\u001b[0;34m)\u001b[0m\u001b[0;34m\u001b[0m\u001b[0m\n\u001b[0m\u001b[1;32m    514\u001b[0m                 \u001b[0;32mif\u001b[0m \u001b[0minputs\u001b[0m \u001b[0;32mis\u001b[0m \u001b[0;32mnot\u001b[0m \u001b[0;32mNone\u001b[0m\u001b[0;34m:\u001b[0m\u001b[0;34m\u001b[0m\u001b[0m\n",
      "\u001b[0;32m~/anaconda3/lib/python3.6/multiprocessing/pool.py\u001b[0m in \u001b[0;36mget\u001b[0;34m(self, timeout)\u001b[0m\n\u001b[1;32m    643\u001b[0m         \u001b[0;32melse\u001b[0m\u001b[0;34m:\u001b[0m\u001b[0;34m\u001b[0m\u001b[0m\n\u001b[0;32m--> 644\u001b[0;31m             \u001b[0;32mraise\u001b[0m \u001b[0mself\u001b[0m\u001b[0;34m.\u001b[0m\u001b[0m_value\u001b[0m\u001b[0;34m\u001b[0m\u001b[0m\n\u001b[0m\u001b[1;32m    645\u001b[0m \u001b[0;34m\u001b[0m\u001b[0m\n",
      "\u001b[0;32m~/anaconda3/lib/python3.6/multiprocessing/pool.py\u001b[0m in \u001b[0;36m_handle_tasks\u001b[0;34m(taskqueue, put, outqueue, pool, cache)\u001b[0m\n\u001b[1;32m    423\u001b[0m                     \u001b[0;32mtry\u001b[0m\u001b[0;34m:\u001b[0m\u001b[0;34m\u001b[0m\u001b[0m\n\u001b[0;32m--> 424\u001b[0;31m                         \u001b[0mput\u001b[0m\u001b[0;34m(\u001b[0m\u001b[0mtask\u001b[0m\u001b[0;34m)\u001b[0m\u001b[0;34m\u001b[0m\u001b[0m\n\u001b[0m\u001b[1;32m    425\u001b[0m                     \u001b[0;32mexcept\u001b[0m \u001b[0mException\u001b[0m \u001b[0;32mas\u001b[0m \u001b[0me\u001b[0m\u001b[0;34m:\u001b[0m\u001b[0;34m\u001b[0m\u001b[0m\n",
      "\u001b[0;32m~/anaconda3/lib/python3.6/multiprocessing/connection.py\u001b[0m in \u001b[0;36msend\u001b[0;34m(self, obj)\u001b[0m\n\u001b[1;32m    205\u001b[0m         \u001b[0mself\u001b[0m\u001b[0;34m.\u001b[0m\u001b[0m_check_writable\u001b[0m\u001b[0;34m(\u001b[0m\u001b[0;34m)\u001b[0m\u001b[0;34m\u001b[0m\u001b[0m\n\u001b[0;32m--> 206\u001b[0;31m         \u001b[0mself\u001b[0m\u001b[0;34m.\u001b[0m\u001b[0m_send_bytes\u001b[0m\u001b[0;34m(\u001b[0m\u001b[0m_ForkingPickler\u001b[0m\u001b[0;34m.\u001b[0m\u001b[0mdumps\u001b[0m\u001b[0;34m(\u001b[0m\u001b[0mobj\u001b[0m\u001b[0;34m)\u001b[0m\u001b[0;34m)\u001b[0m\u001b[0;34m\u001b[0m\u001b[0m\n\u001b[0m\u001b[1;32m    207\u001b[0m \u001b[0;34m\u001b[0m\u001b[0m\n",
      "\u001b[0;32m~/anaconda3/lib/python3.6/multiprocessing/reduction.py\u001b[0m in \u001b[0;36mdumps\u001b[0;34m(cls, obj, protocol)\u001b[0m\n\u001b[1;32m     50\u001b[0m         \u001b[0mbuf\u001b[0m \u001b[0;34m=\u001b[0m \u001b[0mio\u001b[0m\u001b[0;34m.\u001b[0m\u001b[0mBytesIO\u001b[0m\u001b[0;34m(\u001b[0m\u001b[0;34m)\u001b[0m\u001b[0;34m\u001b[0m\u001b[0m\n\u001b[0;32m---> 51\u001b[0;31m         \u001b[0mcls\u001b[0m\u001b[0;34m(\u001b[0m\u001b[0mbuf\u001b[0m\u001b[0;34m,\u001b[0m \u001b[0mprotocol\u001b[0m\u001b[0;34m)\u001b[0m\u001b[0;34m.\u001b[0m\u001b[0mdump\u001b[0m\u001b[0;34m(\u001b[0m\u001b[0mobj\u001b[0m\u001b[0;34m)\u001b[0m\u001b[0;34m\u001b[0m\u001b[0m\n\u001b[0m\u001b[1;32m     52\u001b[0m         \u001b[0;32mreturn\u001b[0m \u001b[0mbuf\u001b[0m\u001b[0;34m.\u001b[0m\u001b[0mgetbuffer\u001b[0m\u001b[0;34m(\u001b[0m\u001b[0;34m)\u001b[0m\u001b[0;34m\u001b[0m\u001b[0m\n",
      "\u001b[0;31mTypeError\u001b[0m: can't pickle _thread.lock objects",
      "\nDuring handling of the above exception, another exception occurred:\n",
      "\u001b[0;31mStopIteration\u001b[0m                             Traceback (most recent call last)",
      "\u001b[0;32m<ipython-input-24-e5260a28122c>\u001b[0m in \u001b[0;36m<module>\u001b[0;34m()\u001b[0m\n\u001b[1;32m     24\u001b[0m                         \u001b[0mmax_queue_size\u001b[0m\u001b[0;34m=\u001b[0m\u001b[0;36m10\u001b[0m\u001b[0;34m,\u001b[0m\u001b[0;34m\u001b[0m\u001b[0m\n\u001b[1;32m     25\u001b[0m                         \u001b[0mworkers\u001b[0m \u001b[0;34m=\u001b[0m \u001b[0;36m8\u001b[0m\u001b[0;34m,\u001b[0m\u001b[0;34m\u001b[0m\u001b[0m\n\u001b[0;32m---> 26\u001b[0;31m                         validation_steps=10000)\n\u001b[0m\u001b[1;32m     27\u001b[0m \u001b[0;34m\u001b[0m\u001b[0m\n\u001b[1;32m     28\u001b[0m     \u001b[0mmodel\u001b[0m\u001b[0;34m.\u001b[0m\u001b[0msave\u001b[0m\u001b[0;34m(\u001b[0m\u001b[0msub_model_save_paths\u001b[0m\u001b[0;34m[\u001b[0m\u001b[0msub_model_order\u001b[0m\u001b[0;34m]\u001b[0m\u001b[0;34m)\u001b[0m\u001b[0;34m\u001b[0m\u001b[0m\n",
      "\u001b[0;32m~/anaconda3/lib/python3.6/site-packages/keras/legacy/interfaces.py\u001b[0m in \u001b[0;36mwrapper\u001b[0;34m(*args, **kwargs)\u001b[0m\n\u001b[1;32m     85\u001b[0m                 warnings.warn('Update your `' + object_name +\n\u001b[1;32m     86\u001b[0m                               '` call to the Keras 2 API: ' + signature, stacklevel=2)\n\u001b[0;32m---> 87\u001b[0;31m             \u001b[0;32mreturn\u001b[0m \u001b[0mfunc\u001b[0m\u001b[0;34m(\u001b[0m\u001b[0;34m*\u001b[0m\u001b[0margs\u001b[0m\u001b[0;34m,\u001b[0m \u001b[0;34m**\u001b[0m\u001b[0mkwargs\u001b[0m\u001b[0;34m)\u001b[0m\u001b[0;34m\u001b[0m\u001b[0m\n\u001b[0m\u001b[1;32m     88\u001b[0m         \u001b[0mwrapper\u001b[0m\u001b[0;34m.\u001b[0m\u001b[0m_original_function\u001b[0m \u001b[0;34m=\u001b[0m \u001b[0mfunc\u001b[0m\u001b[0;34m\u001b[0m\u001b[0m\n\u001b[1;32m     89\u001b[0m         \u001b[0;32mreturn\u001b[0m \u001b[0mwrapper\u001b[0m\u001b[0;34m\u001b[0m\u001b[0m\n",
      "\u001b[0;32m~/anaconda3/lib/python3.6/site-packages/keras/engine/training.py\u001b[0m in \u001b[0;36mfit_generator\u001b[0;34m(self, generator, steps_per_epoch, epochs, verbose, callbacks, validation_data, validation_steps, class_weight, max_queue_size, workers, use_multiprocessing, shuffle, initial_epoch)\u001b[0m\n\u001b[1;32m   2044\u001b[0m                 \u001b[0mbatch_index\u001b[0m \u001b[0;34m=\u001b[0m \u001b[0;36m0\u001b[0m\u001b[0;34m\u001b[0m\u001b[0m\n\u001b[1;32m   2045\u001b[0m                 \u001b[0;32mwhile\u001b[0m \u001b[0msteps_done\u001b[0m \u001b[0;34m<\u001b[0m \u001b[0msteps_per_epoch\u001b[0m\u001b[0;34m:\u001b[0m\u001b[0;34m\u001b[0m\u001b[0m\n\u001b[0;32m-> 2046\u001b[0;31m                     \u001b[0mgenerator_output\u001b[0m \u001b[0;34m=\u001b[0m \u001b[0mnext\u001b[0m\u001b[0;34m(\u001b[0m\u001b[0moutput_generator\u001b[0m\u001b[0;34m)\u001b[0m\u001b[0;34m\u001b[0m\u001b[0m\n\u001b[0m\u001b[1;32m   2047\u001b[0m \u001b[0;34m\u001b[0m\u001b[0m\n\u001b[1;32m   2048\u001b[0m                     \u001b[0;32mif\u001b[0m \u001b[0;32mnot\u001b[0m \u001b[0mhasattr\u001b[0m\u001b[0;34m(\u001b[0m\u001b[0mgenerator_output\u001b[0m\u001b[0;34m,\u001b[0m \u001b[0;34m'__len__'\u001b[0m\u001b[0;34m)\u001b[0m\u001b[0;34m:\u001b[0m\u001b[0;34m\u001b[0m\u001b[0m\n",
      "\u001b[0;32m~/anaconda3/lib/python3.6/site-packages/keras/utils/data_utils.py\u001b[0m in \u001b[0;36mget\u001b[0;34m(self)\u001b[0m\n\u001b[1;32m    516\u001b[0m         \u001b[0;32mexcept\u001b[0m \u001b[0mException\u001b[0m \u001b[0;32mas\u001b[0m \u001b[0me\u001b[0m\u001b[0;34m:\u001b[0m\u001b[0;34m\u001b[0m\u001b[0m\n\u001b[1;32m    517\u001b[0m             \u001b[0mself\u001b[0m\u001b[0;34m.\u001b[0m\u001b[0mstop\u001b[0m\u001b[0;34m(\u001b[0m\u001b[0;34m)\u001b[0m\u001b[0;34m\u001b[0m\u001b[0m\n\u001b[0;32m--> 518\u001b[0;31m             \u001b[0;32mraise\u001b[0m \u001b[0mStopIteration\u001b[0m\u001b[0;34m(\u001b[0m\u001b[0me\u001b[0m\u001b[0;34m)\u001b[0m\u001b[0;34m\u001b[0m\u001b[0m\n\u001b[0m\u001b[1;32m    519\u001b[0m \u001b[0;34m\u001b[0m\u001b[0m\n\u001b[1;32m    520\u001b[0m     \u001b[0;32mdef\u001b[0m \u001b[0mstop\u001b[0m\u001b[0;34m(\u001b[0m\u001b[0mself\u001b[0m\u001b[0;34m,\u001b[0m \u001b[0mtimeout\u001b[0m\u001b[0;34m=\u001b[0m\u001b[0;32mNone\u001b[0m\u001b[0;34m)\u001b[0m\u001b[0;34m:\u001b[0m\u001b[0;34m\u001b[0m\u001b[0m\n",
      "\u001b[0;31mStopIteration\u001b[0m: can't pickle _thread.lock objects"
     ]
    }
   ],
   "source": [
    "#sub_model_names  = [\"trainhead\", \"blocks11\", \"whole_model\"]\n",
    "\n",
    "sub_model_order = 0  # Train head (base 0)\n",
    "\n",
    "if had_been_run[sub_model_order]:\n",
    "    print(\"\\n We FOUND\",sub_model_save_paths[sub_model_order],\".\\n\\t Since it seems to have been already launched, we will skip this model.\\n\\n\")\n",
    "\n",
    "else:\n",
    "\n",
    "    print(\"\\n Starting optimization of model:\",sub_model_names[sub_model_order])\n",
    "\n",
    "    model.compile(loss='categorical_crossentropy',\n",
    "                    optimizer=SGD(lr=learning_rate[sub_model_order], momentum=0.9),\n",
    "                    metrics=[top_k_categorical_accuracy, 'accuracy'])\n",
    "\n",
    "    model.fit_generator(generator=train_generator,\n",
    "                        steps_per_epoch=2000000,\n",
    "                        verbose=0,\n",
    "                        callbacks=callbacks[sub_model_order],\n",
    "                        validation_data=validation_generator,\n",
    "                        initial_epoch=0,\n",
    "                        epochs = num_epochs[sub_model_order],\n",
    "                        use_multiprocessing=True,\n",
    "                        max_queue_size=10,\n",
    "                        workers = 8,\n",
    "                        validation_steps=10000)\n",
    "\n",
    "    model.save(sub_model_save_paths[sub_model_order])"
   ]
  },
  {
   "cell_type": "markdown",
   "metadata": {},
   "source": [
    "## train BLOCKS 11+ "
   ]
  },
  {
   "cell_type": "code",
   "execution_count": null,
   "metadata": {},
   "outputs": [],
   "source": [
    "sub_model_order = 1  # blocks 11+ (base 0)\n",
    "\n",
    "if had_been_run[sub_model_order]:\n",
    "    print(\"\\n We FOUND\",sub_model_save_paths[sub_model_order],\".\\n\\t We will skip this model.\\n\\n\")\n",
    "\n",
    "else:\n",
    "\n",
    "    if had_been_run[sub_model_order - 1]:\n",
    "        model = load_model(sub_model_save_paths[sub_model_order - 1])  # returns a compiled model identical to the previous one\n",
    "\n",
    "    print(\"\\n Starting optimization of model:\",sub_model_names[sub_model_order])\n",
    "    print('\\n\\n\\n')\n",
    "    print('Debugging Blocks11 layer issue:')\n",
    "    for lay in model.layers:\n",
    "        print(lay)\n",
    "\n",
    "    print('\\n\\n\\n')\n",
    "    for clayer in model.layers[num_gpus_to_use + 1].layers:\n",
    "        print(\"trainable:\", clayer.name)\n",
    "\n",
    "        if clayer.name.split(\"_\")[0] in [\"block{}\".format(i) for i in range(10, 15)]:\n",
    "            clayer.trainable = True\n",
    "\n",
    "\n",
    "    model.compile(loss='categorical_crossentropy',\n",
    "                    optimizer=Adam(lr=learning_rate[sub_model_order]),\n",
    "                    metrics=[top_k_categorical_accuracy, 'accuracy'])\n",
    "\n",
    "\n",
    "    model.fit_generator(generator=train_generator,\n",
    "                        steps_per_epoch=math.ceil(2000000 / batch_size),\n",
    "                        verbose=1,\n",
    "                        callbacks=callbacks[sub_model_order],\n",
    "                        validation_data=validation_generator,\n",
    "                        initial_epoch=3,\n",
    "                        epochs = num_epochs[sub_model_order],\n",
    "                        use_multiprocessing=True,\n",
    "                        max_queue_size=10,\n",
    "                        workers = 8,\n",
    "                        validation_steps=math.ceil(10000 / batch_size))\n",
    "\n",
    "\n",
    "    model.save(sub_model_save_paths[sub_model_order])\n",
    "    #save_model(model, sub_model_save_paths[sub_model_order])"
   ]
  },
  {
   "cell_type": "markdown",
   "metadata": {},
   "source": [
    "## train WHOLE model"
   ]
  },
  {
   "cell_type": "code",
   "execution_count": null,
   "metadata": {},
   "outputs": [],
   "source": [
    "sub_model_order = 2  # whole model (base 0)\n",
    "\n",
    "if had_been_run[sub_model_order]:\n",
    "    print(\"\\n We FOUND\",sub_model_save_paths[sub_model_order],\".\\n\\t We will skip this model.\\n\\n\")\n",
    "\n",
    "else:\n",
    "\n",
    "    if had_been_run[sub_model_order - 1]:\n",
    "        model = load_model(sub_model_save_paths[sub_model_order - 1])  # returns a compiled model identical to the previous one\n",
    "\n",
    "    print(\"\\n Starting optimization of model:\",sub_model_names[sub_model_order])\n",
    "    print('\\n\\n\\n Debugging whole model model: ')\n",
    "    for lay in model.layers:\n",
    "        print(lay)\n",
    "    print('\\n\\n\\n')\n",
    "\n",
    "\n",
    "    for clayer in model.layers[num_gpus_to_use + 1].layers:\n",
    "        clayer.trainable = True\n",
    "\n",
    "    # Note you need to recompile the whole thing. Otherwise you are not traing first layers\n",
    "    model.compile(loss='categorical_crossentropy',\n",
    "                    optimizer=Adam(lr=learning_rate[sub_model_order]),\n",
    "                    metrics=[top_k_categorical_accuracy, 'accuracy'])\n",
    "\n",
    "\n",
    "    init_epochs = 8  # We pretrained the model already\n",
    "\n",
    "    # Keep training for as long as you like.\n",
    "    for i in range(100):\n",
    "        # gradually decrease the learning rate\n",
    "        K.set_value(model.optimizer.lr, 0.95 * K.get_value(model.optimizer.lr))\n",
    "        start_epoch = (i * 2)\n",
    "        epochs = ((i + 1) * 2)\n",
    "        model.fit_generator(generator=train_generator,\n",
    "                            steps_per_epoch=math.ceil(2000000 / batch_size),\n",
    "                            verbose=1,\n",
    "                            callbacks=callbacks[sub_model_order],\n",
    "                            validation_data=validation_generator,\n",
    "                            initial_epoch=start_epoch + init_epochs,\n",
    "                            epochs=epochs + init_epochs,\n",
    "                            use_multiprocessing=True,\n",
    "                            max_queue_size=10,\n",
    "                            workers = 8,\n",
    "                            validation_steps=math.ceil(10000 / batch_size))\n",
    "\n",
    "\n",
    "        model.save(model, models_folder + \"mod_and_outp_\" + model_name + \"_\" + subm + \"_ep_\" + str(i) + \".hdf5\")"
   ]
  }
 ],
 "metadata": {
  "kernelspec": {
   "display_name": "Python 3",
   "language": "python",
   "name": "python3"
  },
  "language_info": {
   "codemirror_mode": {
    "name": "ipython",
    "version": 3
   },
   "file_extension": ".py",
   "mimetype": "text/x-python",
   "name": "python",
   "nbconvert_exporter": "python",
   "pygments_lexer": "ipython3",
   "version": "3.6.3"
  }
 },
 "nbformat": 4,
 "nbformat_minor": 2
}
